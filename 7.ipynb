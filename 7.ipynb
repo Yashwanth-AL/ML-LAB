{
 "cells": [
  {
   "cell_type": "code",
   "execution_count": 4,
   "id": "a58a1ff2",
   "metadata": {},
   "outputs": [
    {
     "name": "stdout",
     "output_type": "stream",
     "text": [
      "Glass Dataset Accuracy: 0.3333333333333333\n"
     ]
    }
   ],
   "source": [
    "# - Write a program to develop the KNN classifier for the k values \n",
    "# as 3,5,7 based on split up of training and testing dataset as 90-10, 70-30.\n",
    "#   - a) Glass dataset\n",
    "#   - b) Fruit dataset \n",
    "# using the different distance metrics like Euclidean and Manhattan distance.\n",
    "\n",
    "# a) Glass Dataset\n",
    "\n",
    "from sklearn.neighbors import KNeighborsClassifier\n",
    "from sklearn.model_selection import train_test_split\n",
    "from sklearn.metrics import accuracy_score\n",
    "import pandas as pd\n",
    "\n",
    "def knn_on_dummy_glass():\n",
    "    # Create dummy glass data\n",
    "    data = {\n",
    "        'RI': [1.52, 1.53, 1.54, 1.55, 1.56, 1.52, 1.58],\n",
    "        'Na': [13.2, 13.1, 13.4, 13.0, 13.3, 13.5, 13.1],\n",
    "        'Mg': [3.5, 3.4, 3.6, 3.2, 3.8, 3.3, 3.6],\n",
    "        'Type': [1, 1, 2, 2, 3, 1, 3]  # Glass types as labels\n",
    "    }\n",
    "    df = pd.DataFrame(data)\n",
    "\n",
    "    X = df[['RI', 'Na', 'Mg']]\n",
    "    y = df['Type']\n",
    "\n",
    "    # Train-test split\n",
    "    X_train, X_test, y_train, y_test = train_test_split(X, y, test_size=0.3, random_state=0)\n",
    "\n",
    "    model = KNeighborsClassifier(n_neighbors=3)\n",
    "    model.fit(X_train, y_train)\n",
    "    predictions = model.predict(X_test)\n",
    "\n",
    "    print(\"Glass Dataset Accuracy:\", accuracy_score(y_test, predictions))\n",
    "\n",
    "knn_on_dummy_glass()\n",
    "\n"
   ]
  },
  {
   "cell_type": "code",
   "execution_count": 3,
   "id": "8601e67a",
   "metadata": {},
   "outputs": [
    {
     "name": "stdout",
     "output_type": "stream",
     "text": [
      "Fruit Dataset Accuracy: 0.3333333333333333\n"
     ]
    }
   ],
   "source": [
    "from sklearn.neighbors import KNeighborsClassifier\n",
    "from sklearn.model_selection import train_test_split\n",
    "from sklearn.metrics import accuracy_score\n",
    "import pandas as pd\n",
    "\n",
    "def knn_on_dummy_fruit():\n",
    "    # Create dummy fruit data\n",
    "    data = {\n",
    "        'weight': [150, 180, 120, 160, 200, 170, 130],\n",
    "        'color_score': [0.8, 0.7, 0.6, 0.9, 0.85, 0.88, 0.65],\n",
    "        'fruit_type': [1, 1, 2, 1, 3, 3, 2]  # 1=Apple, 2=Orange, 3=Banana\n",
    "    }\n",
    "    df = pd.DataFrame(data)\n",
    "\n",
    "    X = df[['weight', 'color_score']]\n",
    "    y = df['fruit_type']\n",
    "\n",
    "    # Train-test split with stratification to maintain class balance\n",
    "    X_train, X_test, y_train, y_test = train_test_split(\n",
    "        X, y, test_size=0.3, random_state=1, stratify=y\n",
    "    )\n",
    "\n",
    "    model = KNeighborsClassifier(n_neighbors=3)\n",
    "    model.fit(X_train, y_train)\n",
    "    predictions = model.predict(X_test)\n",
    "\n",
    "    print(\"Fruit Dataset Accuracy:\", accuracy_score(y_test, predictions))\n",
    "\n",
    "knn_on_dummy_fruit()\n"
   ]
  }
 ],
 "metadata": {
  "kernelspec": {
   "display_name": "Python 3",
   "language": "python",
   "name": "python3"
  },
  "language_info": {
   "codemirror_mode": {
    "name": "ipython",
    "version": 3
   },
   "file_extension": ".py",
   "mimetype": "text/x-python",
   "name": "python",
   "nbconvert_exporter": "python",
   "pygments_lexer": "ipython3",
   "version": "3.12.6"
  }
 },
 "nbformat": 4,
 "nbformat_minor": 5
}
