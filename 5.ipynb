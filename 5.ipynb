{
 "cells": [
  {
   "cell_type": "code",
   "execution_count": 1,
   "id": "a3413e1c",
   "metadata": {},
   "outputs": [
    {
     "name": "stdout",
     "output_type": "stream",
     "text": [
      "Minimax Optimal Value: 5\n",
      "Alpha-Beta Optimal Value: 5\n"
     ]
    }
   ],
   "source": [
    "# - Write a program to implement Min-Max algorithm and Alpha-beta pruning algorithm.\n",
    "\n",
    "# Q: Write a program to implement Min-Max and Alpha-Beta pruning algorithms\n",
    "\n",
    "def minimax(depth, index, is_max, scores, max_depth):\n",
    "    if depth == max_depth:\n",
    "        return scores[index]\n",
    "    left = minimax(depth + 1, index * 2, not is_max, scores, max_depth)\n",
    "    right = minimax(depth + 1, index * 2 + 1, not is_max, scores, max_depth)\n",
    "    return max(left, right) if is_max else min(left, right)\n",
    "\n",
    "def alphabeta(depth, index, is_max, scores, max_depth, alpha, beta):\n",
    "    if depth == max_depth:\n",
    "        return scores[index]\n",
    "\n",
    "    for i in range(2):\n",
    "        val = alphabeta(depth + 1, index * 2 + i, not is_max, scores, max_depth, alpha, beta)\n",
    "        if is_max:\n",
    "            alpha = max(alpha, val)\n",
    "        else:\n",
    "            beta = min(beta, val)\n",
    "        if beta <= alpha:\n",
    "            break\n",
    "    return alpha if is_max else beta\n",
    "\n",
    "# Example input: depth 3 (8 leaves)\n",
    "scores = [3, 5, 6, 9, 1, 2, 0, -1]\n",
    "depth = 3\n",
    "\n",
    "print(\"Minimax Optimal Value:\", minimax(0, 0, True, scores, depth))\n",
    "print(\"Alpha-Beta Optimal Value:\", alphabeta(0, 0, True, scores, depth, float('-inf'), float('inf')))\n"
   ]
  }
 ],
 "metadata": {
  "kernelspec": {
   "display_name": "Python 3",
   "language": "python",
   "name": "python3"
  },
  "language_info": {
   "codemirror_mode": {
    "name": "ipython",
    "version": 3
   },
   "file_extension": ".py",
   "mimetype": "text/x-python",
   "name": "python",
   "nbconvert_exporter": "python",
   "pygments_lexer": "ipython3",
   "version": "3.12.6"
  }
 },
 "nbformat": 4,
 "nbformat_minor": 5
}
