{
 "cells": [
  {
   "cell_type": "code",
   "execution_count": 4,
   "id": "81ad45e7",
   "metadata": {},
   "outputs": [
    {
     "name": "stdout",
     "output_type": "stream",
     "text": [
      "Accuracy on Iris Data: 0.9555555555555556\n"
     ]
    }
   ],
   "source": [
    "# - Write a program to develop the Naive Bayes classifier based on split up of\n",
    "#  training and testing dataset as 90-10, 70-30.\n",
    "#   - a) Iris dataset\n",
    "#   - b) Titanic dataset\n",
    "\n",
    "# a) Iris data set\n",
    "\n",
    "from sklearn.naive_bayes import GaussianNB\n",
    "from sklearn.model_selection import train_test_split\n",
    "from sklearn.datasets import load_iris\n",
    "from sklearn.metrics import accuracy_score\n",
    "\n",
    "def naive_bayes_classifier():\n",
    "    data = load_iris()\n",
    "    X_train, X_test, y_train, y_test = train_test_split(data.data, data.target, test_size=0.3)\n",
    "\n",
    "    model = GaussianNB()\n",
    "    model.fit(X_train, y_train)\n",
    "    predictions = model.predict(X_test)\n",
    "\n",
    "    print(\"Accuracy on Iris Data:\", accuracy_score(y_test, predictions))\n",
    "\n",
    "naive_bayes_classifier()\n",
    "\n"
   ]
  },
  {
   "cell_type": "code",
   "execution_count": 2,
   "id": "35438779",
   "metadata": {},
   "outputs": [
    {
     "name": "stdout",
     "output_type": "stream",
     "text": [
      "Accuracy on Titanic data: 0.7674418604651163\n"
     ]
    }
   ],
   "source": [
    "# b) Titanic dataset\n",
    "\n",
    "import seaborn as sns\n",
    "from sklearn.model_selection import train_test_split\n",
    "from sklearn.naive_bayes import GaussianNB\n",
    "from sklearn.metrics import accuracy_score\n",
    "from sklearn.preprocessing import LabelEncoder\n",
    "\n",
    "def naive_bayes_titanic():\n",
    "    # Load Titanic dataset\n",
    "    df = sns.load_dataset(\"titanic\")\n",
    "\n",
    "    # Select useful features and drop rows with missing values\n",
    "    df = df[[\"survived\", \"pclass\", \"sex\", \"age\", \"fare\"]].dropna()\n",
    "\n",
    "    # Encode categorical variable (sex)\n",
    "    le = LabelEncoder()\n",
    "    df[\"sex\"] = le.fit_transform(df[\"sex\"])  # male=1, female=0\n",
    "\n",
    "    # Split features and labels\n",
    "    X = df[[\"pclass\", \"sex\", \"age\", \"fare\"]]\n",
    "    y = df[\"survived\"]\n",
    "\n",
    "    # Split into training and testing\n",
    "    X_train, X_test, y_train, y_test = train_test_split(X, y, test_size=0.3, random_state=42)\n",
    "\n",
    "    # Train Naive Bayes model\n",
    "    model = GaussianNB()\n",
    "    model.fit(X_train, y_train)\n",
    "    predictions = model.predict(X_test)\n",
    "\n",
    "    # Accuracy\n",
    "    print(\"Accuracy on Titanic data:\", accuracy_score(y_test, predictions))\n",
    "\n",
    "naive_bayes_titanic()\n"
   ]
  }
 ],
 "metadata": {
  "kernelspec": {
   "display_name": "Python 3",
   "language": "python",
   "name": "python3"
  },
  "language_info": {
   "codemirror_mode": {
    "name": "ipython",
    "version": 3
   },
   "file_extension": ".py",
   "mimetype": "text/x-python",
   "name": "python",
   "nbconvert_exporter": "python",
   "pygments_lexer": "ipython3",
   "version": "3.12.6"
  }
 },
 "nbformat": 4,
 "nbformat_minor": 5
}
