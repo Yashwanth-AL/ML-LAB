{
 "cells": [
  {
   "cell_type": "code",
   "execution_count": null,
   "id": "6f7b80eb",
   "metadata": {},
   "outputs": [
    {
     "name": "stdout",
     "output_type": "stream",
     "text": [
      "Path: A -> B -> D\n"
     ]
    }
   ],
   "source": [
    "# - Write a program to implement the Best First Search (BFS) algorithm.\n",
    "\n",
    "from queue import PriorityQueue\n",
    "\n",
    "def best_first_search(graph, heuristics, start, goal):\n",
    "    visited = set()\n",
    "    pq = PriorityQueue()\n",
    "    pq.put((heuristics[start], start))\n",
    "    came_from = {}\n",
    "\n",
    "    while not pq.empty():\n",
    "        _, current = pq.get()\n",
    "\n",
    "        if current == goal:\n",
    "            # Reconstruct path\n",
    "            path = [goal]\n",
    "            while current in came_from:\n",
    "                current = came_from[current]\n",
    "                path.append(current)\n",
    "            path.reverse()\n",
    "            print(\"Path:\", ' -> '.join(path))\n",
    "            return\n",
    "\n",
    "        if current not in visited:\n",
    "            visited.add(current)\n",
    "            for neighbor in graph[current]:\n",
    "                if neighbor not in visited:\n",
    "                    pq.put((heuristics[neighbor], neighbor))\n",
    "                    came_from[neighbor] = current\n",
    "\n",
    "# Example graph with heuristic values\n",
    "graph = {\n",
    "    'A': ['B', 'C'],\n",
    "    'B': ['D'],\n",
    "    'C': ['D'],\n",
    "    'D': []\n",
    "}\n",
    "heuristics = {'A': 2, 'B': 1, 'C': 1, 'D': 0}\n",
    "\n",
    "# Run Best First Search\n",
    "best_first_search(graph, heuristics, 'A', 'D')\n"
   ]
  },
  {
   "cell_type": "code",
   "execution_count": 1,
   "id": "43114de0",
   "metadata": {},
   "outputs": [
    {
     "name": "stdout",
     "output_type": "stream",
     "text": [
      "Shortest Path: A -> B -> D\n"
     ]
    }
   ],
   "source": [
    "# - Write a program to implement the A* algorithm.\n",
    "\n",
    "from queue import PriorityQueue\n",
    "\n",
    "def a_star(graph, heuristics, start, goal):\n",
    "    open_set = PriorityQueue()\n",
    "    open_set.put((heuristics[start], start))\n",
    "    \n",
    "    g_cost = {node: float('inf') for node in graph}\n",
    "    g_cost[start] = 0\n",
    "    came_from = {}\n",
    "\n",
    "    while not open_set.empty():\n",
    "        _, current = open_set.get()\n",
    "\n",
    "        if current == goal:\n",
    "            # Reconstruct path\n",
    "            path = [goal]\n",
    "            while current in came_from:\n",
    "                current = came_from[current]\n",
    "                path.append(current)\n",
    "            path.reverse()\n",
    "            print(\"Shortest Path:\", ' -> '.join(path))\n",
    "            return\n",
    "\n",
    "        for neighbor, cost in graph[current]:\n",
    "            new_cost = g_cost[current] + cost\n",
    "            if new_cost < g_cost[neighbor]:\n",
    "                g_cost[neighbor] = new_cost\n",
    "                priority = new_cost + heuristics[neighbor]\n",
    "                open_set.put((priority, neighbor))\n",
    "                came_from[neighbor] = current\n",
    "\n",
    "# Example Graph\n",
    "graph = {\n",
    "    'A': [('B', 1), ('C', 3)],\n",
    "    'B': [('D', 3)],\n",
    "    'C': [('D', 1)],\n",
    "    'D': []\n",
    "}\n",
    "heuristics = {'A': 4, 'B': 2, 'C': 2, 'D': 0}\n",
    "\n",
    "# Run A*\n",
    "a_star(graph, heuristics, 'A', 'D')\n"
   ]
  }
 ],
 "metadata": {
  "kernelspec": {
   "display_name": "Python 3",
   "language": "python",
   "name": "python3"
  },
  "language_info": {
   "codemirror_mode": {
    "name": "ipython",
    "version": 3
   },
   "file_extension": ".py",
   "mimetype": "text/x-python",
   "name": "python",
   "nbconvert_exporter": "python",
   "pygments_lexer": "ipython3",
   "version": "3.12.6"
  }
 },
 "nbformat": 4,
 "nbformat_minor": 5
}
